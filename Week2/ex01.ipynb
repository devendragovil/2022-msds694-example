{
 "cells": [
  {
   "cell_type": "code",
   "execution_count": 1,
   "id": "9eddb81c-3100-4bd3-b8a5-d40c618f8fc8",
   "metadata": {
    "jupyter": {
     "source_hidden": true
    },
    "tags": []
   },
   "outputs": [
    {
     "data": {
      "text/html": [
       "\n",
       "        <iframe\n",
       "            width=\"300\"\n",
       "            height=\"200\"\n",
       "            src=\"../Slides/2022_DistributedComputing_Week2.pdf\"\n",
       "            frameborder=\"0\"\n",
       "            allowfullscreen\n",
       "            \n",
       "        ></iframe>\n",
       "        "
      ],
      "text/plain": [
       "<IPython.lib.display.IFrame at 0x7fea58733c70>"
      ]
     },
     "execution_count": 1,
     "metadata": {},
     "output_type": "execute_result"
    }
   ],
   "source": [
    "from IPython.display import IFrame, display\n",
    "filepath = \"../Slides/2022_DistributedComputing_Week2.pdf\"\n",
    "IFrame(src=filepath, width=300, height=200,)"
   ]
  },
  {
   "cell_type": "code",
   "execution_count": 2,
   "id": "73d8a7a5",
   "metadata": {
    "ExecuteTime": {
     "end_time": "2021-10-26T22:45:33.671397Z",
     "start_time": "2021-10-26T22:45:33.595522Z"
    }
   },
   "outputs": [
    {
     "name": "stderr",
     "output_type": "stream",
     "text": [
      "Setting default log level to \"WARN\".\n",
      "To adjust logging level use sc.setLogLevel(newLevel). For SparkR, use setLogLevel(newLevel).\n"
     ]
    },
    {
     "name": "stdout",
     "output_type": "stream",
     "text": [
      "22/10/28 09:32:51 WARN NativeCodeLoader: Unable to load native-hadoop library for your platform... using builtin-java classes where applicable\n"
     ]
    }
   ],
   "source": [
    "import pyspark\n",
    "import os\n",
    "\n",
    "sc = pyspark.SparkContext(appName=\"ex01\").getOrCreate()"
   ]
  },
  {
   "cell_type": "markdown",
   "id": "5e1c914e",
   "metadata": {},
   "source": [
    "## 1.  Create an rdd using data from filtered_registered_business_sf.tsv\n",
    "\n",
    "* Use 8 partitions."
   ]
  },
  {
   "cell_type": "code",
   "execution_count": 3,
   "id": "4d360426",
   "metadata": {
    "ExecuteTime": {
     "end_time": "2021-10-26T23:02:41.161707Z",
     "start_time": "2021-10-26T23:02:41.138809Z"
    }
   },
   "outputs": [],
   "source": [
    "# Load data from the file.\n",
    "input_rdd = sc.textFile(\"../data/SF_business/supervisor_sf.tsv\", 8)"
   ]
  },
  {
   "cell_type": "code",
   "execution_count": 4,
   "id": "31b02da5",
   "metadata": {
    "ExecuteTime": {
     "end_time": "2021-10-26T23:11:18.119141Z",
     "start_time": "2021-10-26T23:11:18.115441Z"
    }
   },
   "outputs": [
    {
     "data": {
      "text/plain": [
       "../data/SF_business/supervisor_sf.tsv MapPartitionsRDD[1] at textFile at NativeMethodAccessorImpl.java:0"
      ]
     },
     "execution_count": 4,
     "metadata": {},
     "output_type": "execute_result"
    }
   ],
   "source": [
    "input_rdd"
   ]
  },
  {
   "cell_type": "markdown",
   "id": "89e45aea",
   "metadata": {},
   "source": [
    "* rdd is data which is distributed."
   ]
  },
  {
   "cell_type": "markdown",
   "id": "7dff7e60",
   "metadata": {},
   "source": [
    "## 2.  See the data in RDD"
   ]
  },
  {
   "cell_type": "code",
   "execution_count": 5,
   "id": "a23f2416",
   "metadata": {
    "ExecuteTime": {
     "end_time": "2021-10-26T23:02:42.203918Z",
     "start_time": "2021-10-26T23:02:42.179628Z"
    }
   },
   "outputs": [
    {
     "name": "stderr",
     "output_type": "stream",
     "text": [
      "                                                                                \r"
     ]
    },
    {
     "data": {
      "text/plain": [
       "['94102\\t8',\n",
       " '94102\\t6',\n",
       " '94102\\t3',\n",
       " '94102\\t5',\n",
       " '94103\\t8',\n",
       " '94103\\t9',\n",
       " '94103\\t10',\n",
       " '94103\\t6',\n",
       " '94103\\t3',\n",
       " '94103\\t5',\n",
       " '94104\\t6',\n",
       " '94104\\t3',\n",
       " '94105\\t6',\n",
       " '94105\\t3',\n",
       " '94107\\t10',\n",
       " '94107\\t6',\n",
       " '94108\\t6',\n",
       " '94108\\t3',\n",
       " '94109\\t2',\n",
       " '94109\\t6',\n",
       " '94109\\t3',\n",
       " '94109\\t5',\n",
       " '94110\\t8',\n",
       " '94110\\t11',\n",
       " '94110\\t9',\n",
       " '94110\\t10',\n",
       " '94111\\t6',\n",
       " '94111\\t3',\n",
       " '94112\\t7',\n",
       " '94112\\t8',\n",
       " '94112\\t11',\n",
       " '94112\\t9',\n",
       " '94112\\t10',\n",
       " '94114\\t7',\n",
       " '94114\\t8',\n",
       " '94114\\t5',\n",
       " '94115\\t2',\n",
       " '94115\\t1',\n",
       " '94115\\t5',\n",
       " '94116\\t7',\n",
       " '94116\\t4',\n",
       " '94117\\t1',\n",
       " '94117\\t7',\n",
       " '94117\\t8',\n",
       " '94117\\t5',\n",
       " '94118\\t2',\n",
       " '94118\\t1',\n",
       " '94118\\t5',\n",
       " '94121\\t2',\n",
       " '94121\\t1',\n",
       " '94122\\t1',\n",
       " '94122\\t7',\n",
       " '94122\\t5',\n",
       " '94122\\t4',\n",
       " '94123\\t2',\n",
       " '94124\\t9',\n",
       " '94124\\t10',\n",
       " '94127\\t7',\n",
       " '94127\\t8',\n",
       " '94127\\t11',\n",
       " '94129\\t2',\n",
       " '94130\\t6',\n",
       " '94131\\t7',\n",
       " '94131\\t8',\n",
       " '94131\\t5',\n",
       " '94132\\t7',\n",
       " '94132\\t11',\n",
       " '94132\\t4',\n",
       " '94133\\t2',\n",
       " '94133\\t3',\n",
       " '94134\\t11',\n",
       " '94134\\t9',\n",
       " '94134\\t10',\n",
       " '94158\\t10',\n",
       " '94158\\t6']"
      ]
     },
     "execution_count": 5,
     "metadata": {},
     "output_type": "execute_result"
    }
   ],
   "source": [
    "input_rdd.collect()"
   ]
  },
  {
   "cell_type": "code",
   "execution_count": 6,
   "id": "0ee8276f",
   "metadata": {
    "ExecuteTime": {
     "end_time": "2021-10-26T23:02:42.587600Z",
     "start_time": "2021-10-26T23:02:42.561653Z"
    }
   },
   "outputs": [
    {
     "data": {
      "text/plain": [
       "list"
      ]
     },
     "execution_count": 6,
     "metadata": {},
     "output_type": "execute_result"
    }
   ],
   "source": [
    "# It is no longer distributed! So do not use other than on the final step or for debugging.\n",
    "type(input_rdd.collect())"
   ]
  },
  {
   "cell_type": "markdown",
   "id": "113d48b8",
   "metadata": {},
   "source": [
    "## 3.  How many data are in RDD?"
   ]
  },
  {
   "cell_type": "code",
   "execution_count": 7,
   "id": "95d2c67f",
   "metadata": {
    "ExecuteTime": {
     "end_time": "2021-10-26T23:02:43.705973Z",
     "start_time": "2021-10-26T23:02:43.665615Z"
    }
   },
   "outputs": [
    {
     "name": "stderr",
     "output_type": "stream",
     "text": [
      "                                                                                \r"
     ]
    },
    {
     "data": {
      "text/plain": [
       "75"
      ]
     },
     "execution_count": 7,
     "metadata": {},
     "output_type": "execute_result"
    }
   ],
   "source": [
    "input_rdd.count()"
   ]
  },
  {
   "cell_type": "code",
   "execution_count": 8,
   "id": "32a1caa9",
   "metadata": {},
   "outputs": [
    {
     "data": {
      "text/plain": [
       "int"
      ]
     },
     "execution_count": 8,
     "metadata": {},
     "output_type": "execute_result"
    }
   ],
   "source": [
    "# Also count() is an action like collect()\n",
    "type(input_rdd.count())"
   ]
  },
  {
   "cell_type": "markdown",
   "id": "599aefcc",
   "metadata": {},
   "source": [
    "## 4. See how data is distributed on 8 partitions"
   ]
  },
  {
   "cell_type": "code",
   "execution_count": 9,
   "id": "edcf1be2",
   "metadata": {
    "ExecuteTime": {
     "end_time": "2021-10-26T23:02:44.482973Z",
     "start_time": "2021-10-26T23:02:44.446507Z"
    }
   },
   "outputs": [
    {
     "data": {
      "text/plain": [
       "[['94102\\t8',\n",
       "  '94102\\t6',\n",
       "  '94102\\t3',\n",
       "  '94102\\t5',\n",
       "  '94103\\t8',\n",
       "  '94103\\t9',\n",
       "  '94103\\t10',\n",
       "  '94103\\t6',\n",
       "  '94103\\t3',\n",
       "  '94103\\t5'],\n",
       " ['94104\\t6',\n",
       "  '94104\\t3',\n",
       "  '94105\\t6',\n",
       "  '94105\\t3',\n",
       "  '94107\\t10',\n",
       "  '94107\\t6',\n",
       "  '94108\\t6',\n",
       "  '94108\\t3',\n",
       "  '94109\\t2'],\n",
       " ['94109\\t6',\n",
       "  '94109\\t3',\n",
       "  '94109\\t5',\n",
       "  '94110\\t8',\n",
       "  '94110\\t11',\n",
       "  '94110\\t9',\n",
       "  '94110\\t10',\n",
       "  '94111\\t6',\n",
       "  '94111\\t3'],\n",
       " ['94112\\t7',\n",
       "  '94112\\t8',\n",
       "  '94112\\t11',\n",
       "  '94112\\t9',\n",
       "  '94112\\t10',\n",
       "  '94114\\t7',\n",
       "  '94114\\t8',\n",
       "  '94114\\t5',\n",
       "  '94115\\t2',\n",
       "  '94115\\t1'],\n",
       " ['94115\\t5',\n",
       "  '94116\\t7',\n",
       "  '94116\\t4',\n",
       "  '94117\\t1',\n",
       "  '94117\\t7',\n",
       "  '94117\\t8',\n",
       "  '94117\\t5',\n",
       "  '94118\\t2',\n",
       "  '94118\\t1'],\n",
       " ['94118\\t5',\n",
       "  '94121\\t2',\n",
       "  '94121\\t1',\n",
       "  '94122\\t1',\n",
       "  '94122\\t7',\n",
       "  '94122\\t5',\n",
       "  '94122\\t4',\n",
       "  '94123\\t2',\n",
       "  '94124\\t9',\n",
       "  '94124\\t10'],\n",
       " ['94127\\t7',\n",
       "  '94127\\t8',\n",
       "  '94127\\t11',\n",
       "  '94129\\t2',\n",
       "  '94130\\t6',\n",
       "  '94131\\t7',\n",
       "  '94131\\t8',\n",
       "  '94131\\t5',\n",
       "  '94132\\t7'],\n",
       " ['94132\\t11',\n",
       "  '94132\\t4',\n",
       "  '94133\\t2',\n",
       "  '94133\\t3',\n",
       "  '94134\\t11',\n",
       "  '94134\\t9',\n",
       "  '94134\\t10',\n",
       "  '94158\\t10',\n",
       "  '94158\\t6']]"
      ]
     },
     "execution_count": 9,
     "metadata": {},
     "output_type": "execute_result"
    }
   ],
   "source": [
    "input_rdd.glom().collect()"
   ]
  },
  {
   "cell_type": "markdown",
   "id": "1b8c6420",
   "metadata": {},
   "source": [
    "## 5. Convert data in rdd to a tuple of integers"
   ]
  },
  {
   "cell_type": "code",
   "execution_count": 10,
   "id": "96056f0c",
   "metadata": {
    "ExecuteTime": {
     "end_time": "2021-10-26T23:03:38.297499Z",
     "start_time": "2021-10-26T23:03:38.293922Z"
    }
   },
   "outputs": [],
   "source": [
    "splitted_rdd = input_rdd.map(lambda x: x.split('\\t'))"
   ]
  },
  {
   "cell_type": "code",
   "execution_count": 11,
   "id": "e4b8e7c9",
   "metadata": {},
   "outputs": [],
   "source": [
    "zip_id = splitted_rdd.map(lambda x: [int(x[0]), int(x[1])])"
   ]
  },
  {
   "cell_type": "code",
   "execution_count": 12,
   "id": "9f96c4b6",
   "metadata": {
    "ExecuteTime": {
     "end_time": "2021-10-26T23:03:38.801390Z",
     "start_time": "2021-10-26T23:03:38.762010Z"
    }
   },
   "outputs": [
    {
     "data": {
      "text/plain": [
       "[[94102, 8],\n",
       " [94102, 6],\n",
       " [94102, 3],\n",
       " [94102, 5],\n",
       " [94103, 8],\n",
       " [94103, 9],\n",
       " [94103, 10],\n",
       " [94103, 6],\n",
       " [94103, 3],\n",
       " [94103, 5],\n",
       " [94104, 6],\n",
       " [94104, 3],\n",
       " [94105, 6],\n",
       " [94105, 3],\n",
       " [94107, 10],\n",
       " [94107, 6],\n",
       " [94108, 6],\n",
       " [94108, 3],\n",
       " [94109, 2],\n",
       " [94109, 6],\n",
       " [94109, 3],\n",
       " [94109, 5],\n",
       " [94110, 8],\n",
       " [94110, 11],\n",
       " [94110, 9],\n",
       " [94110, 10],\n",
       " [94111, 6],\n",
       " [94111, 3],\n",
       " [94112, 7],\n",
       " [94112, 8],\n",
       " [94112, 11],\n",
       " [94112, 9],\n",
       " [94112, 10],\n",
       " [94114, 7],\n",
       " [94114, 8],\n",
       " [94114, 5],\n",
       " [94115, 2],\n",
       " [94115, 1],\n",
       " [94115, 5],\n",
       " [94116, 7],\n",
       " [94116, 4],\n",
       " [94117, 1],\n",
       " [94117, 7],\n",
       " [94117, 8],\n",
       " [94117, 5],\n",
       " [94118, 2],\n",
       " [94118, 1],\n",
       " [94118, 5],\n",
       " [94121, 2],\n",
       " [94121, 1],\n",
       " [94122, 1],\n",
       " [94122, 7],\n",
       " [94122, 5],\n",
       " [94122, 4],\n",
       " [94123, 2],\n",
       " [94124, 9],\n",
       " [94124, 10],\n",
       " [94127, 7],\n",
       " [94127, 8],\n",
       " [94127, 11],\n",
       " [94129, 2],\n",
       " [94130, 6],\n",
       " [94131, 7],\n",
       " [94131, 8],\n",
       " [94131, 5],\n",
       " [94132, 7],\n",
       " [94132, 11],\n",
       " [94132, 4],\n",
       " [94133, 2],\n",
       " [94133, 3],\n",
       " [94134, 11],\n",
       " [94134, 9],\n",
       " [94134, 10],\n",
       " [94158, 10],\n",
       " [94158, 6]]"
      ]
     },
     "execution_count": 12,
     "metadata": {},
     "output_type": "execute_result"
    }
   ],
   "source": [
    "zip_id.collect()"
   ]
  },
  {
   "cell_type": "markdown",
   "id": "2a3cbf45",
   "metadata": {},
   "source": [
    "## 6. Return unique zip code associated with id, 9 or 10"
   ]
  },
  {
   "cell_type": "code",
   "execution_count": 13,
   "id": "75d78336",
   "metadata": {
    "ExecuteTime": {
     "end_time": "2021-10-26T23:05:17.212633Z",
     "start_time": "2021-10-26T23:05:17.195751Z"
    }
   },
   "outputs": [],
   "source": [
    "zip = zip_id.filter(lambda x: x[1] == 9 or x[1] == 10)\\\n",
    "            .map(lambda x: x[0])"
   ]
  },
  {
   "cell_type": "code",
   "execution_count": 14,
   "id": "48b233f1",
   "metadata": {},
   "outputs": [],
   "source": [
    "distinct_zip = zip.distinct()"
   ]
  },
  {
   "cell_type": "markdown",
   "id": "c9038a1d",
   "metadata": {},
   "source": [
    "## 7. Order zip in ascending order"
   ]
  },
  {
   "cell_type": "code",
   "execution_count": 15,
   "id": "2bf602b1",
   "metadata": {
    "ExecuteTime": {
     "end_time": "2021-10-26T23:06:11.523226Z",
     "start_time": "2021-10-26T23:06:11.424674Z"
    }
   },
   "outputs": [
    {
     "name": "stderr",
     "output_type": "stream",
     "text": [
      "                                                                                \r"
     ]
    }
   ],
   "source": [
    "ordered_distinct_zip = distinct_zip.sortBy(lambda x: x, ascending=False)"
   ]
  },
  {
   "cell_type": "code",
   "execution_count": 16,
   "id": "73657c62",
   "metadata": {
    "ExecuteTime": {
     "end_time": "2021-10-26T23:06:17.872730Z",
     "start_time": "2021-10-26T23:06:17.797886Z"
    }
   },
   "outputs": [
    {
     "data": {
      "text/plain": [
       "[94158, 94134, 94124, 94112, 94110, 94107, 94103]"
      ]
     },
     "execution_count": 16,
     "metadata": {},
     "output_type": "execute_result"
    }
   ],
   "source": [
    "ordered_distinct_zip.collect()"
   ]
  },
  {
   "cell_type": "code",
   "execution_count": 17,
   "id": "ec8583b5",
   "metadata": {
    "ExecuteTime": {
     "end_time": "2021-10-26T23:06:34.916231Z",
     "start_time": "2021-10-26T23:06:34.291318Z"
    }
   },
   "outputs": [],
   "source": [
    "sc.stop()"
   ]
  },
  {
   "cell_type": "code",
   "execution_count": null,
   "id": "1a840aff",
   "metadata": {},
   "outputs": [],
   "source": []
  }
 ],
 "metadata": {
  "kernelspec": {
   "display_name": "Python 3 (ipykernel)",
   "language": "python",
   "name": "python3"
  },
  "language_info": {
   "codemirror_mode": {
    "name": "ipython",
    "version": 3
   },
   "file_extension": ".py",
   "mimetype": "text/x-python",
   "name": "python",
   "nbconvert_exporter": "python",
   "pygments_lexer": "ipython3",
   "version": "3.10.6"
  },
  "varInspector": {
   "cols": {
    "lenName": 16,
    "lenType": 16,
    "lenVar": 40
   },
   "kernels_config": {
    "python": {
     "delete_cmd_postfix": "",
     "delete_cmd_prefix": "del ",
     "library": "var_list.py",
     "varRefreshCmd": "print(var_dic_list())"
    },
    "r": {
     "delete_cmd_postfix": ") ",
     "delete_cmd_prefix": "rm(",
     "library": "var_list.r",
     "varRefreshCmd": "cat(var_dic_list()) "
    }
   },
   "types_to_exclude": [
    "module",
    "function",
    "builtin_function_or_method",
    "instance",
    "_Feature"
   ],
   "window_display": false
  }
 },
 "nbformat": 4,
 "nbformat_minor": 5
}
