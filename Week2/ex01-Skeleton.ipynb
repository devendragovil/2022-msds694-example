{
 "cells": [
  {
   "cell_type": "code",
   "execution_count": 1,
   "id": "a9a34fcd",
   "metadata": {
    "jupyter": {
     "source_hidden": true
    },
    "tags": []
   },
   "outputs": [
    {
     "data": {
      "text/html": [
       "\n",
       "        <iframe\n",
       "            width=\"300\"\n",
       "            height=\"200\"\n",
       "            src=\"../Slides/2022_DistributedComputing_Week2.pdf\"\n",
       "            frameborder=\"0\"\n",
       "            allowfullscreen\n",
       "            \n",
       "        ></iframe>\n",
       "        "
      ],
      "text/plain": [
       "<IPython.lib.display.IFrame at 0x7fe711b15060>"
      ]
     },
     "execution_count": 1,
     "metadata": {},
     "output_type": "execute_result"
    }
   ],
   "source": [
    "from IPython.display import IFrame, display\n",
    "filepath = \"../Slides/2022_DistributedComputing_Week2.pdf\"\n",
    "IFrame(src=filepath, width=300, height=200,)"
   ]
  },
  {
   "cell_type": "code",
   "execution_count": null,
   "id": "73d8a7a5",
   "metadata": {
    "ExecuteTime": {
     "end_time": "2021-10-26T22:45:33.671397Z",
     "start_time": "2021-10-26T22:45:33.595522Z"
    }
   },
   "outputs": [],
   "source": [
    "import pyspark\n",
    "import os"
   ]
  },
  {
   "cell_type": "markdown",
   "id": "5e1c914e",
   "metadata": {},
   "source": [
    "## 1.  Create an rdd using data from filtered_registered_business_sf.tsv\n",
    "\n",
    "* Use 8 partitions."
   ]
  },
  {
   "cell_type": "code",
   "execution_count": null,
   "id": "4d360426",
   "metadata": {
    "ExecuteTime": {
     "end_time": "2021-10-26T23:02:41.161707Z",
     "start_time": "2021-10-26T23:02:41.138809Z"
    }
   },
   "outputs": [],
   "source": []
  },
  {
   "cell_type": "code",
   "execution_count": null,
   "id": "31b02da5",
   "metadata": {
    "ExecuteTime": {
     "end_time": "2021-10-26T23:11:18.119141Z",
     "start_time": "2021-10-26T23:11:18.115441Z"
    }
   },
   "outputs": [],
   "source": []
  },
  {
   "cell_type": "markdown",
   "id": "89e45aea",
   "metadata": {},
   "source": [
    "* rdd is data which is distributed."
   ]
  },
  {
   "cell_type": "markdown",
   "id": "7dff7e60",
   "metadata": {},
   "source": [
    "## 2.  See the data in RDD"
   ]
  },
  {
   "cell_type": "code",
   "execution_count": null,
   "id": "a23f2416",
   "metadata": {
    "ExecuteTime": {
     "end_time": "2021-10-26T23:02:42.203918Z",
     "start_time": "2021-10-26T23:02:42.179628Z"
    }
   },
   "outputs": [],
   "source": []
  },
  {
   "cell_type": "code",
   "execution_count": null,
   "id": "0ee8276f",
   "metadata": {
    "ExecuteTime": {
     "end_time": "2021-10-26T23:02:42.587600Z",
     "start_time": "2021-10-26T23:02:42.561653Z"
    }
   },
   "outputs": [],
   "source": [
    "# It is no longer distributed! So do not use other than on the final step or for debugging.\n",
    "type(input_rdd.collect())"
   ]
  },
  {
   "cell_type": "markdown",
   "id": "113d48b8",
   "metadata": {},
   "source": [
    "## 3.  How many data are in RDD?"
   ]
  },
  {
   "cell_type": "code",
   "execution_count": null,
   "id": "95d2c67f",
   "metadata": {
    "ExecuteTime": {
     "end_time": "2021-10-26T23:02:43.705973Z",
     "start_time": "2021-10-26T23:02:43.665615Z"
    }
   },
   "outputs": [],
   "source": []
  },
  {
   "cell_type": "code",
   "execution_count": null,
   "id": "32a1caa9",
   "metadata": {},
   "outputs": [],
   "source": [
    "# Also count() is an action like collect()\n",
    "type(input_rdd.count())"
   ]
  },
  {
   "cell_type": "markdown",
   "id": "599aefcc",
   "metadata": {},
   "source": [
    "## 4. See how data is distributed on 8 partitions"
   ]
  },
  {
   "cell_type": "code",
   "execution_count": null,
   "id": "edcf1be2",
   "metadata": {
    "ExecuteTime": {
     "end_time": "2021-10-26T23:02:44.482973Z",
     "start_time": "2021-10-26T23:02:44.446507Z"
    }
   },
   "outputs": [],
   "source": []
  },
  {
   "cell_type": "markdown",
   "id": "1b8c6420",
   "metadata": {},
   "source": [
    "## 5. Convert data in rdd to a tuple of integers"
   ]
  },
  {
   "cell_type": "code",
   "execution_count": null,
   "id": "96056f0c",
   "metadata": {
    "ExecuteTime": {
     "end_time": "2021-10-26T23:03:38.297499Z",
     "start_time": "2021-10-26T23:03:38.293922Z"
    }
   },
   "outputs": [],
   "source": []
  },
  {
   "cell_type": "code",
   "execution_count": null,
   "id": "e4b8e7c9",
   "metadata": {},
   "outputs": [],
   "source": []
  },
  {
   "cell_type": "code",
   "execution_count": null,
   "id": "9f96c4b6",
   "metadata": {
    "ExecuteTime": {
     "end_time": "2021-10-26T23:03:38.801390Z",
     "start_time": "2021-10-26T23:03:38.762010Z"
    }
   },
   "outputs": [],
   "source": []
  },
  {
   "cell_type": "markdown",
   "id": "2a3cbf45",
   "metadata": {},
   "source": [
    "## 6. Return unique zip code associated with id, 9 or 10"
   ]
  },
  {
   "cell_type": "code",
   "execution_count": null,
   "id": "75d78336",
   "metadata": {
    "ExecuteTime": {
     "end_time": "2021-10-26T23:05:17.212633Z",
     "start_time": "2021-10-26T23:05:17.195751Z"
    }
   },
   "outputs": [],
   "source": []
  },
  {
   "cell_type": "code",
   "execution_count": null,
   "id": "48b233f1",
   "metadata": {},
   "outputs": [],
   "source": []
  },
  {
   "cell_type": "markdown",
   "id": "c9038a1d",
   "metadata": {},
   "source": [
    "## 7. Order zip in ascending order"
   ]
  },
  {
   "cell_type": "code",
   "execution_count": null,
   "id": "2bf602b1",
   "metadata": {
    "ExecuteTime": {
     "end_time": "2021-10-26T23:06:11.523226Z",
     "start_time": "2021-10-26T23:06:11.424674Z"
    }
   },
   "outputs": [],
   "source": []
  },
  {
   "cell_type": "code",
   "execution_count": null,
   "id": "73657c62",
   "metadata": {
    "ExecuteTime": {
     "end_time": "2021-10-26T23:06:17.872730Z",
     "start_time": "2021-10-26T23:06:17.797886Z"
    }
   },
   "outputs": [],
   "source": []
  },
  {
   "cell_type": "code",
   "execution_count": null,
   "id": "ec8583b5",
   "metadata": {
    "ExecuteTime": {
     "end_time": "2021-10-26T23:06:34.916231Z",
     "start_time": "2021-10-26T23:06:34.291318Z"
    }
   },
   "outputs": [],
   "source": [
    "sc.stop()"
   ]
  },
  {
   "cell_type": "code",
   "execution_count": null,
   "id": "1a840aff",
   "metadata": {},
   "outputs": [],
   "source": []
  },
  {
   "cell_type": "code",
   "execution_count": null,
   "id": "07fd544d-9723-441c-bc0f-ddfddb2989bf",
   "metadata": {},
   "outputs": [],
   "source": []
  }
 ],
 "metadata": {
  "kernelspec": {
   "display_name": "Python 3 (ipykernel)",
   "language": "python",
   "name": "python3"
  },
  "language_info": {
   "codemirror_mode": {
    "name": "ipython",
    "version": 3
   },
   "file_extension": ".py",
   "mimetype": "text/x-python",
   "name": "python",
   "nbconvert_exporter": "python",
   "pygments_lexer": "ipython3",
   "version": "3.10.6"
  },
  "varInspector": {
   "cols": {
    "lenName": 16,
    "lenType": 16,
    "lenVar": 40
   },
   "kernels_config": {
    "python": {
     "delete_cmd_postfix": "",
     "delete_cmd_prefix": "del ",
     "library": "var_list.py",
     "varRefreshCmd": "print(var_dic_list())"
    },
    "r": {
     "delete_cmd_postfix": ") ",
     "delete_cmd_prefix": "rm(",
     "library": "var_list.r",
     "varRefreshCmd": "cat(var_dic_list()) "
    }
   },
   "types_to_exclude": [
    "module",
    "function",
    "builtin_function_or_method",
    "instance",
    "_Feature"
   ],
   "window_display": false
  }
 },
 "nbformat": 4,
 "nbformat_minor": 5
}
