{
 "cells": [
  {
   "cell_type": "code",
   "execution_count": 1,
   "id": "d3b73f18-b1f3-4ad1-a8ca-5aace50bf5e9",
   "metadata": {
    "jupyter": {
     "source_hidden": true
    },
    "tags": []
   },
   "outputs": [
    {
     "data": {
      "text/html": [
       "\n",
       "        <iframe\n",
       "            width=\"300\"\n",
       "            height=\"200\"\n",
       "            src=\"../Slides/2022_DistributedComputing_Week2.pdf\"\n",
       "            frameborder=\"0\"\n",
       "            allowfullscreen\n",
       "            \n",
       "        ></iframe>\n",
       "        "
      ],
      "text/plain": [
       "<IPython.lib.display.IFrame at 0x7fde41013f70>"
      ]
     },
     "execution_count": 1,
     "metadata": {},
     "output_type": "execute_result"
    }
   ],
   "source": [
    "from IPython.display import IFrame, display\n",
    "filepath = \"../Slides/2022_DistributedComputing_Week2.pdf\"\n",
    "IFrame(src=filepath, width=300, height=200,)"
   ]
  },
  {
   "cell_type": "code",
   "execution_count": 2,
   "id": "0ef89416",
   "metadata": {},
   "outputs": [
    {
     "name": "stderr",
     "output_type": "stream",
     "text": [
      "Setting default log level to \"WARN\".\n",
      "To adjust logging level use sc.setLogLevel(newLevel). For SparkR, use setLogLevel(newLevel).\n"
     ]
    },
    {
     "name": "stdout",
     "output_type": "stream",
     "text": [
      "22/10/27 22:49:51 WARN NativeCodeLoader: Unable to load native-hadoop library for your platform... using builtin-java classes where applicable\n"
     ]
    }
   ],
   "source": [
    "import pyspark\n",
    "import os\n",
    "\n",
    "sc = pyspark.SparkContext(appName=\"ex03\").getOrCreate()"
   ]
  },
  {
   "cell_type": "code",
   "execution_count": 3,
   "id": "22e410ff",
   "metadata": {},
   "outputs": [
    {
     "name": "stderr",
     "output_type": "stream",
     "text": [
      "                                                                                \r"
     ]
    }
   ],
   "source": [
    "input_rdd = sc.textFile(\"../data/SF_business/supervisor_sf.tsv\", 8)\n",
    "zip_id = input_rdd.map(lambda x: x.split('\\t')).map(lambda x: [int(x[0]), int(x[1])])\n",
    "distinct_zip = zip_id.filter(lambda x: x[1] == 9 or x[1] == 10)\\\n",
    "                     .map(lambda x: x[0])\\\n",
    "                     .distinct()\n",
    "ordered_distinct_zip = distinct_zip.sortBy(lambda x: x, ascending=False)"
   ]
  },
  {
   "cell_type": "code",
   "execution_count": 4,
   "id": "5a59e002",
   "metadata": {},
   "outputs": [],
   "source": [
    "zip_id_2 = sc.parallelize([94103, 94105, 94107])"
   ]
  },
  {
   "cell_type": "code",
   "execution_count": null,
   "id": "2ac34b52",
   "metadata": {},
   "outputs": [],
   "source": [
    "union_zip = zip_id_2.union(ordered_distinct_zip)\n",
    "union_zip.collect()"
   ]
  },
  {
   "cell_type": "code",
   "execution_count": null,
   "id": "6c580b7f",
   "metadata": {},
   "outputs": [],
   "source": [
    "intersection_zip = zip_id_2.intersection(ordered_distinct_zip)\n",
    "intersection_zip.collect()"
   ]
  },
  {
   "cell_type": "code",
   "execution_count": null,
   "id": "a5079046",
   "metadata": {},
   "outputs": [],
   "source": [
    "subtract_zip = zip_id_2.subtract(ordered_distinct_zip)\n",
    "subtract_zip.collect()"
   ]
  },
  {
   "cell_type": "code",
   "execution_count": null,
   "id": "229c9236",
   "metadata": {},
   "outputs": [],
   "source": [
    "cartesian_zip = zip_id_2.cartesian(ordered_distinct_zip)\n",
    "cartesian_zip.collect()"
   ]
  },
  {
   "cell_type": "code",
   "execution_count": null,
   "id": "3c435ac9",
   "metadata": {},
   "outputs": [],
   "source": [
    "sc.stop()"
   ]
  },
  {
   "cell_type": "code",
   "execution_count": null,
   "id": "667537ca",
   "metadata": {},
   "outputs": [],
   "source": []
  }
 ],
 "metadata": {
  "kernelspec": {
   "display_name": "Python 3 (ipykernel)",
   "language": "python",
   "name": "python3"
  },
  "language_info": {
   "codemirror_mode": {
    "name": "ipython",
    "version": 3
   },
   "file_extension": ".py",
   "mimetype": "text/x-python",
   "name": "python",
   "nbconvert_exporter": "python",
   "pygments_lexer": "ipython3",
   "version": "3.10.6"
  },
  "varInspector": {
   "cols": {
    "lenName": 16,
    "lenType": 16,
    "lenVar": 40
   },
   "kernels_config": {
    "python": {
     "delete_cmd_postfix": "",
     "delete_cmd_prefix": "del ",
     "library": "var_list.py",
     "varRefreshCmd": "print(var_dic_list())"
    },
    "r": {
     "delete_cmd_postfix": ") ",
     "delete_cmd_prefix": "rm(",
     "library": "var_list.r",
     "varRefreshCmd": "cat(var_dic_list()) "
    }
   },
   "types_to_exclude": [
    "module",
    "function",
    "builtin_function_or_method",
    "instance",
    "_Feature"
   ],
   "window_display": false
  }
 },
 "nbformat": 4,
 "nbformat_minor": 5
}
